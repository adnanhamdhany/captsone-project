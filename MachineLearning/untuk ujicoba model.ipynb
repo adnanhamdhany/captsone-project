{
 "cells": [
  {
   "cell_type": "code",
   "execution_count": 27,
   "id": "93050872-48da-498e-a617-775334f4986f",
   "metadata": {},
   "outputs": [
    {
     "name": "stderr",
     "output_type": "stream",
     "text": [
      "WARNING:absl:Compiled the loaded model, but the compiled metrics have yet to be built. `model.compile_metrics` will be empty until you train or evaluate the model.\n"
     ]
    },
    {
     "name": "stdin",
     "output_type": "stream",
     "text": [
      "Masukkan path ke file gambar:  C:\\Users\\ACER\\Downloads\\Project Capstone\\data\\NonFresh\\IstavritBayat (32).jpg\n"
     ]
    },
    {
     "name": "stdout",
     "output_type": "stream",
     "text": [
      "\u001b[1m1/1\u001b[0m \u001b[32m━━━━━━━━━━━━━━━━━━━━\u001b[0m\u001b[37m\u001b[0m \u001b[1m0s\u001b[0m 85ms/step\n",
      "Hasil Prediksi: Fresh (Confidence: 1.00)\n"
     ]
    }
   ],
   "source": [
    "# untuk train\n",
    "import tensorflow as tf\n",
    "import numpy as np\n",
    "from tensorflow.keras.preprocessing import image_dataset_from_directory\n",
    "from tensorflow.keras.models import load_model\n",
    "import os\n",
    "from PIL import Image\n",
    "\n",
    "# Fungsi untuk memproses gambar\n",
    "def process_image(img_path, img_size=(128, 128)):\n",
    "    img = Image.open(img_path).convert(\"RGB\")\n",
    "    img = img.resize(img_size)\n",
    "    img_array = np.array(img) / 255.0  # Normalisasi\n",
    "    return np.expand_dims(img_array, axis=0)  # Tambah batch dimension\n",
    "\n",
    "# Fungsi untuk prediksi\n",
    "def predict_image(model, img_path):\n",
    "    img_array = process_image(img_path)\n",
    "    predictions = model.predict(img_array)\n",
    "    confidence = predictions.max()\n",
    "    predicted_class = class_names[predictions.argmax()]\n",
    "    if confidence >= 0.5:\n",
    "        return f\"{predicted_class} (Confidence: {confidence:.2f})\"\n",
    "    else:\n",
    "        return \"Model tidak yakin dengan hasil prediksi.\"\n",
    "\n",
    "# Validasi path file\n",
    "def is_image_file(filepath):\n",
    "    valid_extensions = ['.jpg', '.jpeg', '.png', '.bmp']\n",
    "    ext = os.path.splitext(filepath)[1].lower()\n",
    "    return ext in valid_extensions\n",
    "\n",
    "# Path model\n",
    "model_path = \"fish_freshness_model.h5\"\n",
    "model = load_model(model_path)\n",
    "\n",
    "# Kelas (harus sesuai dengan dataset)\n",
    "class_names = [\"Fresh\", \"NonFresh\"]\n",
    "\n",
    "# Input gambar dari user\n",
    "img_path = input(\"Masukkan path ke file gambar: \")\n",
    "if not os.path.exists(img_path):\n",
    "    print(\"File tidak ditemukan. Pastikan path benar.\")\n",
    "    exit()\n",
    "if not is_image_file(img_path):\n",
    "    print(\"File bukan gambar. Harap masukkan file gambar.\")\n",
    "    exit()\n",
    "\n",
    "# Prediksi gambar\n",
    "result = predict_image(model, img_path)\n",
    "print(f\"Hasil Prediksi: {result}\")\n"
   ]
  },
  {
   "cell_type": "code",
   "execution_count": 26,
   "id": "2ca273c4-7c09-4225-b64c-206db166c5b4",
   "metadata": {},
   "outputs": [
    {
     "name": "stderr",
     "output_type": "stream",
     "text": [
      "WARNING:absl:Compiled the loaded model, but the compiled metrics have yet to be built. `model.compile_metrics` will be empty until you train or evaluate the model.\n"
     ]
    },
    {
     "name": "stdin",
     "output_type": "stream",
     "text": [
      "Masukkan path gambar ikan yang ingin diuji:  C:\\Users\\ACER\\Downloads\\Project Capstone\\data\\NonFresh\\IstavritBayat (32).jpg\n"
     ]
    },
    {
     "name": "stdout",
     "output_type": "stream",
     "text": [
      "\u001b[1m1/1\u001b[0m \u001b[32m━━━━━━━━━━━━━━━━━━━━\u001b[0m\u001b[37m\u001b[0m \u001b[1m1s\u001b[0m 1s/step\n",
      "Hasil: Ikan *tidak segar* (confidence: 1.00)\n"
     ]
    }
   ],
   "source": [
    "# untuk train with transfer learning\n",
    "import numpy as np\n",
    "from tensorflow.keras.preprocessing import image\n",
    "from tensorflow.keras.models import load_model\n",
    "\n",
    "# Memuat model yang sudah dilatih\n",
    "model = load_model(\"fish_freshness_model_v2.h5\")\n",
    "\n",
    "# Path gambar input\n",
    "img_path = input(\"Masukkan path gambar ikan yang ingin diuji: \")\n",
    "\n",
    "# Memuat dan memproses gambar\n",
    "img = image.load_img(img_path, target_size=(128, 128))\n",
    "img_array = image.img_to_array(img) / 255.0\n",
    "img_array = np.expand_dims(img_array, axis=0)  # Menambah dimensi batch\n",
    "\n",
    "# Prediksi\n",
    "prediction = model.predict(img_array)[0][0]\n",
    "\n",
    "if prediction > 0.5:\n",
    "    print(f\"Hasil: Ikan *tidak segar* (confidence: {prediction:.2f})\")\n",
    "else:\n",
    "    print(f\"Hasil: Ikan *segar* (confidence: {1 - prediction:.2f})\")\n"
   ]
  },
  {
   "cell_type": "code",
   "execution_count": null,
   "id": "129df62f-be04-4f64-9ecd-599fef4d2261",
   "metadata": {},
   "outputs": [],
   "source": []
  }
 ],
 "metadata": {
  "kernelspec": {
   "display_name": "Python 3 (ipykernel)",
   "language": "python",
   "name": "python3"
  },
  "language_info": {
   "codemirror_mode": {
    "name": "ipython",
    "version": 3
   },
   "file_extension": ".py",
   "mimetype": "text/x-python",
   "name": "python",
   "nbconvert_exporter": "python",
   "pygments_lexer": "ipython3",
   "version": "3.11.9"
  }
 },
 "nbformat": 4,
 "nbformat_minor": 5
}
