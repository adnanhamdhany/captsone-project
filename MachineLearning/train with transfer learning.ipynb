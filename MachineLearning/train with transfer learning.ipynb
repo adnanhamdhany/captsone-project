{
 "cells": [
  {
   "cell_type": "code",
   "execution_count": 1,
   "id": "baf0706f-d1c1-4cef-8ec6-2b3a4dc4fecf",
   "metadata": {},
   "outputs": [
    {
     "name": "stdout",
     "output_type": "stream",
     "text": [
      "Found 4876 files belonging to 2 classes.\n",
      "Using 3901 files for training.\n",
      "Found 4876 files belonging to 2 classes.\n",
      "Using 975 files for validation.\n",
      "Downloading data from https://storage.googleapis.com/tensorflow/keras-applications/mobilenet_v2/mobilenet_v2_weights_tf_dim_ordering_tf_kernels_1.0_128_no_top.h5\n",
      "\u001b[1m9406464/9406464\u001b[0m \u001b[32m━━━━━━━━━━━━━━━━━━━━\u001b[0m\u001b[37m\u001b[0m \u001b[1m8s\u001b[0m 1us/step\n",
      "Epoch 1/10\n",
      "\u001b[1m122/122\u001b[0m \u001b[32m━━━━━━━━━━━━━━━━━━━━\u001b[0m\u001b[37m\u001b[0m \u001b[1m36s\u001b[0m 258ms/step - accuracy: 0.9282 - loss: 0.1647 - val_accuracy: 0.9969 - val_loss: 0.0096\n",
      "Epoch 2/10\n",
      "\u001b[1m122/122\u001b[0m \u001b[32m━━━━━━━━━━━━━━━━━━━━\u001b[0m\u001b[37m\u001b[0m \u001b[1m29s\u001b[0m 240ms/step - accuracy: 0.9989 - loss: 0.0091 - val_accuracy: 1.0000 - val_loss: 0.0025\n",
      "Epoch 3/10\n",
      "\u001b[1m122/122\u001b[0m \u001b[32m━━━━━━━━━━━━━━━━━━━━\u001b[0m\u001b[37m\u001b[0m \u001b[1m29s\u001b[0m 237ms/step - accuracy: 0.9995 - loss: 0.0035 - val_accuracy: 1.0000 - val_loss: 0.0011\n",
      "Epoch 4/10\n",
      "\u001b[1m122/122\u001b[0m \u001b[32m━━━━━━━━━━━━━━━━━━━━\u001b[0m\u001b[37m\u001b[0m \u001b[1m29s\u001b[0m 238ms/step - accuracy: 0.9995 - loss: 0.0024 - val_accuracy: 1.0000 - val_loss: 8.5869e-04\n",
      "Epoch 5/10\n",
      "\u001b[1m122/122\u001b[0m \u001b[32m━━━━━━━━━━━━━━━━━━━━\u001b[0m\u001b[37m\u001b[0m \u001b[1m29s\u001b[0m 238ms/step - accuracy: 1.0000 - loss: 0.0012 - val_accuracy: 0.9969 - val_loss: 0.0081\n",
      "Epoch 6/10\n",
      "\u001b[1m122/122\u001b[0m \u001b[32m━━━━━━━━━━━━━━━━━━━━\u001b[0m\u001b[37m\u001b[0m \u001b[1m29s\u001b[0m 237ms/step - accuracy: 0.9987 - loss: 0.0030 - val_accuracy: 1.0000 - val_loss: 5.3026e-04\n",
      "Epoch 7/10\n",
      "\u001b[1m122/122\u001b[0m \u001b[32m━━━━━━━━━━━━━━━━━━━━\u001b[0m\u001b[37m\u001b[0m \u001b[1m29s\u001b[0m 237ms/step - accuracy: 0.9994 - loss: 0.0020 - val_accuracy: 0.9990 - val_loss: 0.0014\n",
      "Epoch 8/10\n",
      "\u001b[1m122/122\u001b[0m \u001b[32m━━━━━━━━━━━━━━━━━━━━\u001b[0m\u001b[37m\u001b[0m \u001b[1m29s\u001b[0m 237ms/step - accuracy: 1.0000 - loss: 5.3120e-04 - val_accuracy: 1.0000 - val_loss: 6.7541e-04\n",
      "Epoch 9/10\n",
      "\u001b[1m122/122\u001b[0m \u001b[32m━━━━━━━━━━━━━━━━━━━━\u001b[0m\u001b[37m\u001b[0m \u001b[1m30s\u001b[0m 242ms/step - accuracy: 1.0000 - loss: 4.4490e-04 - val_accuracy: 0.9990 - val_loss: 0.0042\n",
      "Epoch 10/10\n",
      "\u001b[1m122/122\u001b[0m \u001b[32m━━━━━━━━━━━━━━━━━━━━\u001b[0m\u001b[37m\u001b[0m \u001b[1m32s\u001b[0m 257ms/step - accuracy: 0.9994 - loss: 0.0013 - val_accuracy: 1.0000 - val_loss: 1.5073e-04\n"
     ]
    },
    {
     "name": "stderr",
     "output_type": "stream",
     "text": [
      "WARNING:absl:You are saving your model as an HDF5 file via `model.save()` or `keras.saving.save_model(model)`. This file format is considered legacy. We recommend using instead the native Keras format, e.g. `model.save('my_model.keras')` or `keras.saving.save_model(model, 'my_model.keras')`. \n"
     ]
    },
    {
     "name": "stdout",
     "output_type": "stream",
     "text": [
      "Model telah selesai dilatih dan disimpan.\n"
     ]
    }
   ],
   "source": [
    "import tensorflow as tf\n",
    "from tensorflow.keras import layers, models\n",
    "from tensorflow.keras.applications import MobileNetV2\n",
    "from tensorflow.keras.preprocessing import image_dataset_from_directory\n",
    "from tensorflow.keras.layers import Rescaling\n",
    "\n",
    "# Direktori dataset\n",
    "dataset_dir = r\"C:\\Users\\ACER\\Downloads\\Project Capstone\\data\"  # Sesuaikan dengan path dataset Anda\n",
    "\n",
    "# Membagi dataset menjadi training (80%) dan testing (20%)\n",
    "train_ds = image_dataset_from_directory(\n",
    "    dataset_dir,\n",
    "    validation_split=0.2,\n",
    "    subset=\"training\",\n",
    "    seed=123,\n",
    "    image_size=(128, 128),  # Ukuran gambar disesuaikan dengan model\n",
    "    batch_size=32\n",
    ")\n",
    "\n",
    "test_ds = image_dataset_from_directory(\n",
    "    dataset_dir,\n",
    "    validation_split=0.2,\n",
    "    subset=\"validation\",\n",
    "    seed=123,\n",
    "    image_size=(128, 128),  # Ukuran gambar disesuaikan dengan model\n",
    "    batch_size=32\n",
    ")\n",
    "\n",
    "# Normalisasi dataset (mengubah nilai piksel menjadi 0-1)\n",
    "normalization_layer = Rescaling(1./255)\n",
    "train_ds = train_ds.map(lambda x, y: (normalization_layer(x), y))\n",
    "test_ds = test_ds.map(lambda x, y: (normalization_layer(x), y))\n",
    "\n",
    "# Prefetch data untuk efisiensi\n",
    "AUTOTUNE = tf.data.AUTOTUNE\n",
    "train_ds = train_ds.prefetch(buffer_size=AUTOTUNE)\n",
    "test_ds = test_ds.prefetch(buffer_size=AUTOTUNE)\n",
    "\n",
    "# 1. Memuat model pretrained MobileNetV2\n",
    "base_model = MobileNetV2(input_shape=(128, 128, 3), include_top=False, weights='imagenet')\n",
    "\n",
    "# Jangan latih layer dasar (base layers)\n",
    "base_model.trainable = False\n",
    "\n",
    "# 2. Membuat model baru dengan MobileNetV2 sebagai base\n",
    "model = models.Sequential([\n",
    "    base_model,\n",
    "    layers.GlobalAveragePooling2D(),\n",
    "    layers.Dense(128, activation='relu'),\n",
    "    layers.Dropout(0.5),\n",
    "    layers.Dense(1, activation='sigmoid')  # Output sigmoid untuk klasifikasi biner\n",
    "])\n",
    "\n",
    "# 3. Compile model\n",
    "model.compile(\n",
    "    optimizer='adam',\n",
    "    loss='binary_crossentropy',\n",
    "    metrics=['accuracy']\n",
    ")\n",
    "\n",
    "# 4. Melatih model\n",
    "history = model.fit(\n",
    "    train_ds,\n",
    "    validation_data=test_ds,\n",
    "    epochs=10\n",
    ")\n",
    "\n",
    "# Menyimpan model\n",
    "model.save(\"fish_freshness_model_v2.h5\")\n",
    "\n",
    "print(\"Model telah selesai dilatih dan disimpan.\")\n"
   ]
  },
  {
   "cell_type": "code",
   "execution_count": null,
   "id": "56943612-df4a-4392-9634-75f26a54f4c8",
   "metadata": {},
   "outputs": [],
   "source": []
  }
 ],
 "metadata": {
  "kernelspec": {
   "display_name": "Python 3 (ipykernel)",
   "language": "python",
   "name": "python3"
  },
  "language_info": {
   "codemirror_mode": {
    "name": "ipython",
    "version": 3
   },
   "file_extension": ".py",
   "mimetype": "text/x-python",
   "name": "python",
   "nbconvert_exporter": "python",
   "pygments_lexer": "ipython3",
   "version": "3.11.9"
  }
 },
 "nbformat": 4,
 "nbformat_minor": 5
}
